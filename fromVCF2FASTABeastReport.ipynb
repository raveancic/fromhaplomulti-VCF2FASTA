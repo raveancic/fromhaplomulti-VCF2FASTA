{
 "cells": [
  {
   "cell_type": "markdown",
   "metadata": {},
   "source": [
    "# Script for converting haploid multiVCF to the FASTA\n",
    "\n",
    "A consideration needs to be done here, the multi-vcf must be haploid and it accepts as max as three-allelic SNPs, if you have SNPs with more than three alleles you need to do little modification of the script in two points that are listed below."
   ]
  },
  {
   "cell_type": "code",
   "execution_count": null,
   "metadata": {},
   "outputs": [],
   "source": [
    "import allel\n",
    "import os\n",
    "import numpy as np"
   ]
  },
  {
   "cell_type": "markdown",
   "metadata": {},
   "source": [
    "Only three alleles? you are fine, keep going. \n",
    "\n",
    "**Alert 1** First modification **if** you have more than three alleles for some SNPs: after the second `elif` you add \n",
    "\n",
    "``\n",
    "elif s[i] == 3: \n",
    "    out.append(alt[i][2])\n",
    "``\n",
    "\n",
    "if you have four allele, than, if you have five alleles \n",
    "\n",
    "`\n",
    "elif s[i] == 4: \n",
    "    out.append(alt[i][3])\n",
    "` \n",
    "\n",
    "ecc. ecc.\n",
    "\n",
    "This, needs to be followed by the modification in the import of the vcf file"
   ]
  },
  {
   "cell_type": "code",
   "execution_count": null,
   "metadata": {},
   "outputs": [],
   "source": [
    "# Function for conversion of 0,1,2,\".\" in the ref and alt base\n",
    "# It converts the haplotype array from numbers 0,1,2,. to the corresponding letter\n",
    "\n",
    "def fromGT2Base(HaploArray):\n",
    "    \n",
    "    n=[]\n",
    "\n",
    "    for sam in range(HaploArray.shape[1]):\n",
    "\n",
    "        s= HaploArray[:,sam]\n",
    "\n",
    "        out=[]\n",
    "\n",
    "        for i in range(HaploArray.shape[0]):\n",
    "            if s[i] == 0:\n",
    "                out.append(ref[i])\n",
    "            elif s[i] == 1:\n",
    "                out.append(alt[i][0])\n",
    "            elif s[i] == 2:\n",
    "                out.append(alt[i][1])\n",
    "            else:\n",
    "                out.append(\"N\")\n",
    "        n.append(out)\n",
    "\n",
    "    FASTA_array_tmp =np.array(n)\n",
    "    return(FASTA_array_tmp)"
   ]
  },
  {
   "cell_type": "markdown",
   "metadata": {},
   "source": [
    "Only three alleles? you are fine, keep going. \n",
    "\n",
    "**Alert 2** Second modification **if** you have more than three alleles for some SNPs: you need to change `numbers={'GT': 1, 'ALT':3}` if you have four alleles, then, if you have five alleles `numbers={'GT': 1, 'ALT':4}`, then if you have if you have six alleles `numbers={'GT': 1, 'ALT':5}` ecc. ecc."
   ]
  },
  {
   "cell_type": "code",
   "execution_count": null,
   "metadata": {},
   "outputs": [],
   "source": [
    "# Change directory\n",
    "os.chdir('/media/ubuntu/26f3b6d7-0e54-4371-9efd-01b2f0f03216/project/TraversoetalYchrAmerica/make_fasta/')\n",
    "\n",
    "# Load the vcf and take only 1 genotype (haploid) as well as the maximum two ALT alleles\n",
    "callset = allel.read_vcf('merged_HC_130samps_complete_mm09_nomonomorph_corr.vcf.gz',  numbers={'GT': 1, 'ALT':2})"
   ]
  },
  {
   "cell_type": "code",
   "execution_count": null,
   "metadata": {
    "scrolled": false
   },
   "outputs": [],
   "source": [
    "# Show the keys of the callset\n",
    "sorted(callset.keys())"
   ]
  },
  {
   "cell_type": "code",
   "execution_count": null,
   "metadata": {},
   "outputs": [],
   "source": [
    "# Create the element for the ref / alt alleles and the ID of the samples\n",
    "ref = callset['variants/REF']\n",
    "ref\n",
    "alt = callset['variants/ALT']\n",
    "alt\n",
    "IDsamp = callset['samples']\n",
    "IDsamp\n",
    "\n",
    "# Create the haplotype array from the callset of before\n",
    "hap = allel.HaplotypeArray(callset['calldata/GT'])\n",
    "hap"
   ]
  },
  {
   "cell_type": "code",
   "execution_count": null,
   "metadata": {},
   "outputs": [],
   "source": [
    "# Vectorize in order to apply len function to the numpy array of the alt\n",
    "mylen = np.vectorize(len)\n",
    "\n",
    "# Create a vector with the length of each element of the array\n",
    "l = mylen(alt)\n",
    "\n",
    "# Filter only the length higher than 1 (i.e CC / CCA / CCCA)\n",
    "higher_one_tmp1 = (l > 1)\n",
    "\n",
    "# Create and empty array\n",
    "higher_one_tmp2 = []\n",
    "\n",
    "# If there is a True insert this in the new array\n",
    "for el in range(higher_one_tmp1.shape[0]):\n",
    "    higher_one_tmp2.append(any(higher_one_tmp1[el]))\n",
    "\n",
    "# Revert the true and false    \n",
    "higher_one = np.array([not elem for elem in higher_one_tmp2])\n",
    "\n",
    "# Display the results\n",
    "higher_one\n"
   ]
  },
  {
   "cell_type": "code",
   "execution_count": null,
   "metadata": {},
   "outputs": [],
   "source": [
    "# Exclude those variants that had more than one base in the ref / alt\n",
    "ref = ref[higher_one]\n",
    "alt = alt[higher_one]\n",
    "hap2 = hap[higher_one]"
   ]
  },
  {
   "cell_type": "code",
   "execution_count": null,
   "metadata": {},
   "outputs": [],
   "source": [
    "FASTA_array_tmp = fromGT2Base(hap2)"
   ]
  },
  {
   "cell_type": "code",
   "execution_count": null,
   "metadata": {
    "scrolled": true
   },
   "outputs": [],
   "source": [
    "FASTA_array = FASTA_array_tmp.astype('S1')"
   ]
  },
  {
   "cell_type": "code",
   "execution_count": null,
   "metadata": {},
   "outputs": [],
   "source": [
    "FASTA2save = FASTA_array[0]\n",
    "allel.write_fasta(\"prova2.fasta\", FASTA2save, names= IDsamp[0],mode='w', width=10000)"
   ]
  },
  {
   "cell_type": "code",
   "execution_count": null,
   "metadata": {
    "scrolled": true
   },
   "outputs": [],
   "source": [
    "for sa in range(1, FASTA_array.shape[0]):\n",
    "    allel.write_fasta(\"prova2.fasta\", FASTA_array[sa], names= IDsamp[sa],mode='a', width=10000)\n",
    "    "
   ]
  }
 ],
 "metadata": {
  "kernelspec": {
   "display_name": "PBS",
   "language": "python",
   "name": "pbs"
  },
  "language_info": {
   "codemirror_mode": {
    "name": "ipython",
    "version": 3
   },
   "file_extension": ".py",
   "mimetype": "text/x-python",
   "name": "python",
   "nbconvert_exporter": "python",
   "pygments_lexer": "ipython3",
   "version": "3.8.2"
  }
 },
 "nbformat": 4,
 "nbformat_minor": 2
}
